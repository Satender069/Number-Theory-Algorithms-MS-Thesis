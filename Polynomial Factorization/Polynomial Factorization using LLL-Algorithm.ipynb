{
 "cells": [
  {
   "cell_type": "markdown",
   "id": "corporate-table",
   "metadata": {},
   "source": [
    "### Example : Find  irreducible factors of $f(x) = 8x^{10} + 28x^9 + 24x^8 + 36x^7 + 14x^6 + 35x^5 - 12x^4 + 22x^3 - 13x^2 + 5x - 3$ in $\\mathbb{Z}[X]$.\n",
    "$\\textit{Solution:}$ Factors are: $(x + 3),(2x - 1),(2x^2 + 1),(x^4 + x^3 + x^2 + 1)$\n"
   ]
  },
  {
   "cell_type": "code",
   "execution_count": 34,
   "id": "interesting-campbell",
   "metadata": {},
   "outputs": [],
   "source": [
    "f = Poly(8*x**10 + 28*x**9 + 24*x**8 + 36*x**7 + 14*x**6 + 35*x**5 - 12*x**4 + 22*x**3 - 13*x**2 + 5*x - 3, x, domain='ZZ')"
   ]
  },
  {
   "cell_type": "markdown",
   "id": "sized-render",
   "metadata": {},
   "source": [
    "##### Note: $f$ is a global variable."
   ]
  },
  {
   "cell_type": "code",
   "execution_count": 35,
   "id": "arbitrary-premium",
   "metadata": {},
   "outputs": [],
   "source": [
    "import sympy as sp\n",
    "from sympy import prime \n",
    "from sympy.abc import x\n",
    "from sympy import *\n",
    "from sympy import GF\n",
    "from sympy import sqf_part\n",
    "from sympy import factor_list"
   ]
  },
  {
   "cell_type": "markdown",
   "id": "enclosed-cartridge",
   "metadata": {},
   "source": [
    "##### Getting square-free part of $f(x)$."
   ]
  },
  {
   "cell_type": "code",
   "execution_count": 36,
   "id": "later-moment",
   "metadata": {},
   "outputs": [
    {
     "data": {
      "text/latex": [
       "$\\displaystyle \\operatorname{Poly}{\\left( 4 x^{8} + 14 x^{7} + 10 x^{6} + 11 x^{5} + 2 x^{4} + 12 x^{3} - 7 x^{2} + 5 x - 3, x, domain=\\mathbb{Z} \\right)}$"
      ],
      "text/plain": [
       "Poly(4*x**8 + 14*x**7 + 10*x**6 + 11*x**5 + 2*x**4 + 12*x**3 - 7*x**2 + 5*x - 3, x, domain='ZZ')"
      ]
     },
     "execution_count": 36,
     "metadata": {},
     "output_type": "execute_result"
    }
   ],
   "source": [
    "f = sqf_part(f)\n",
    "f"
   ]
  },
  {
   "cell_type": "markdown",
   "id": "official-green",
   "metadata": {},
   "source": [
    "#### 0). Choosing suitable $'p'$ values such that $f(x)\\ (mod p)$ is square-free in $\\mathbb{Z}_p[X]$."
   ]
  },
  {
   "cell_type": "code",
   "execution_count": 52,
   "id": "copyrighted-monitoring",
   "metadata": {},
   "outputs": [],
   "source": [
    "def factor_base(f, pbound):\n",
    "    factor_base = []\n",
    "    poly_list = []\n",
    "    prime_list = [prime(i) for i in range(1,pbound+1)]\n",
    "    for num in prime_list:\n",
    "        coeff_f = f.all_coeffs()\n",
    "        \n",
    "        if coeff_f[0]%num != 0:\n",
    "            \n",
    "            #Reducing f(x) mod(num)\n",
    "            K = GF(num)                         \n",
    "            g = sp.Poly(coeff_f,x,domain = K)\n",
    "        \n",
    "            # Checking if square_free\n",
    "            if sp.discriminant(g)!= 0:\n",
    "                poly_list.append(g)\n",
    "                factor_base.append(num)\n",
    "    return factor_base,poly_list      "
   ]
  },
  {
   "cell_type": "code",
   "execution_count": 38,
   "id": "connected-candle",
   "metadata": {},
   "outputs": [
    {
     "data": {
      "text/plain": [
       "([5, 13, 17, 29],\n",
       " [Poly(-x**8 - x**7 + x**5 + 2*x**4 + 2*x**3 - 2*x**2 + 2, x, modulus=5),\n",
       "  Poly(4*x**8 + x**7 - 3*x**6 - 2*x**5 + 2*x**4 - x**3 + 6*x**2 + 5*x - 3, x, modulus=13),\n",
       "  Poly(4*x**8 - 3*x**7 - 7*x**6 - 6*x**5 + 2*x**4 - 5*x**3 - 7*x**2 + 5*x - 3, x, modulus=17),\n",
       "  Poly(4*x**8 + 14*x**7 + 10*x**6 + 11*x**5 + 2*x**4 + 12*x**3 - 7*x**2 + 5*x - 3, x, modulus=29)])"
      ]
     },
     "execution_count": 38,
     "metadata": {},
     "output_type": "execute_result"
    }
   ],
   "source": [
    "factor_base(f,10)"
   ]
  },
  {
   "cell_type": "markdown",
   "id": "according-flower",
   "metadata": {},
   "source": [
    "### Factoring $f(x)\\ mod(p)$ in $\\mathbb{Z}_p[X]$."
   ]
  },
  {
   "cell_type": "markdown",
   "id": "insured-genesis",
   "metadata": {},
   "source": [
    "#### Distinct-degree Factorization(DDF)"
   ]
  },
  {
   "cell_type": "code",
   "execution_count": 39,
   "id": "adult-dairy",
   "metadata": {},
   "outputs": [],
   "source": [
    "from sympy import monic\n",
    "from sympy import ZZ\n",
    "\n",
    "\n",
    "def DDF(f,p):  # Enter 'square-free', 'primitive' f(x) \\in Z[X].\n",
    "    \n",
    "    K = GF(p) \n",
    "    f_modp = Poly(f, domain = K)\n",
    "    f = monic(f_modp,domain=K)   # Converting to Monic in K.\n",
    "    f_coef = f_modp.all_coeffs()\n",
    "    degree_f = f.degree()\n",
    "    \n",
    "    # We have monic,square-free POLYNOMIAL =  f, COEFFICIENTS = f_coef, PRIME = p\n",
    "    F = f\n",
    "    DDF_list = []\n",
    "    degree = 1\n",
    "    deg_list = []\n",
    "    total_deg = 0\n",
    "    while total_deg != degree_f:\n",
    "        \n",
    "        if p**degree > f.degree():\n",
    "            B = sp.poly(x**p)\n",
    "            for i in range(1,degree):\n",
    "                B = sp.rem(B**p,f,domain = K)\n",
    "        else:\n",
    "            B = sp.poly(x**(p**degree),domain = K)\n",
    "        factor = sp.gcd(f,Poly(B-sp.Poly([1,0],x)),domain = K)\n",
    "        if factor != 1:\n",
    "            deg_list.append(degree)\n",
    "            DDF_list.append(factor)\n",
    "            total_deg = total_deg + degree\n",
    "        degree = degree+1\n",
    "        \n",
    "        f = sp.quo(f,factor)\n",
    "        if f == 1:\n",
    "            break\n",
    "    return DDF_list, deg_list,p"
   ]
  },
  {
   "cell_type": "markdown",
   "id": "super-exclusive",
   "metadata": {},
   "source": [
    "#### Equal-Degree Factorization(EDF)"
   ]
  },
  {
   "cell_type": "code",
   "execution_count": 40,
   "id": "alleged-lightning",
   "metadata": {},
   "outputs": [],
   "source": [
    "import numpy as np\n",
    "from numpy.polynomial import polynomial as P\n",
    "from numpy import random as r\n",
    "\n",
    "\n",
    "def EDF(f,p):\n",
    "    \n",
    "    A_d,deg_list,p = DDF(f,p)\n",
    "    factors_list = []\n",
    "    irr_factors_list = []\n",
    "    K = GF(p)\n",
    "    n_factors = 0\n",
    "    if p>2: \n",
    "        \n",
    "        for (poly,deg) in zip(A_d,deg_list):\n",
    "            \n",
    "            # Checking if Poly is an irreducible polynomial \n",
    "            if deg == poly.degree():\n",
    "                irr_factors_list.append(poly)\n",
    "                n_factors = n_factors +1\n",
    "            else:\n",
    "                n_factors = n_factors + (poly.degree()/deg)\n",
    "                T = sp.random_poly(x,poly.degree(),inf = 0,sup = p,domain = K)\n",
    "                d = 2\n",
    "                d1 = ((p**deg)-1)/2\n",
    "                T_2 = T**2\n",
    "                while d <= d1:\n",
    "                    T_2 = sp.rem(T_2,poly)*T\n",
    "                    d = d+1\n",
    "                F1 = sp.gcd(T_2+1,poly,domain = K)\n",
    "                F2 = sp.gcd(T_2-1,poly,domain = K)\n",
    "                F3 = sp.quo(poly,F1*F2,domain = K)\n",
    "                \n",
    "                deg_f1 = F1.degree()\n",
    "                deg_f2 = F2.degree()\n",
    "                deg_f3 = F3.degree()\n",
    "                \n",
    "                if deg_f1 != 0:\n",
    "                    if deg_f1 == deg:\n",
    "                        irr_factors_list.append(F1)\n",
    "                    else:\n",
    "                        factors_list.append([F1,deg])\n",
    "                if deg_f2 != 0:\n",
    "                    if deg_f2 == deg:\n",
    "                        irr_factors_list.append(F2)\n",
    "                    else:\n",
    "                        factors_list.append([F2,deg])\n",
    "                if deg_f3 != 0:\n",
    "                    if deg_f3 == deg:\n",
    "                        irr_factors_list.append(F3)\n",
    "                    else:\n",
    "                        factors_list.append([F3,deg])\n",
    "    return factors_list,irr_factors_list,p, n_factors"
   ]
  },
  {
   "cell_type": "markdown",
   "id": "uniform-georgia",
   "metadata": {},
   "source": [
    "#### Factoring completely using DDF and EDF as above"
   ]
  },
  {
   "cell_type": "markdown",
   "id": "compatible-mercy",
   "metadata": {},
   "source": [
    "## ======================== =========== =================================="
   ]
  },
  {
   "cell_type": "markdown",
   "id": "arranged-imagination",
   "metadata": {},
   "source": [
    "Programs below are to be hadled for each prime $p$ separately."
   ]
  },
  {
   "cell_type": "code",
   "execution_count": 53,
   "id": "developing-stewart",
   "metadata": {},
   "outputs": [
    {
     "name": "stdout",
     "output_type": "stream",
     "text": [
      "FACTORS= [Poly(x**2 - 2, x, modulus=5), Poly(x**4 + x**3 + x**2 + 1, x, modulus=5), Poly(x - 2, x, modulus=5), Poly(x + 2, x, modulus=5)]\n"
     ]
    }
   ],
   "source": [
    "factors_list, irr_factors_list,p,n_factors = EDF(f,5)  # Input : polynomial in Z[X], primes bound, prime number\n",
    "K = GF(p)\n",
    "while len(irr_factors_list) != n_factors:\n",
    "    list2 = []\n",
    "    for elt in factors_list:\n",
    "        polynomial = elt[0]\n",
    "        degree = elt[1]\n",
    "        T = sp.random_poly(x,degree,inf = 0,sup = p,domain = K)\n",
    "        d = 2\n",
    "        d1 = ((p**degree)-1)/2\n",
    "        T_2 = T**2\n",
    "        while d <= d1:\n",
    "            T_2 = sp.rem(T_2,polynomial)*T\n",
    "            d = d+1\n",
    "        F1 = sp.gcd(T_2+1,polynomial,domain = K)\n",
    "        F2 = sp.gcd(T_2-1,polynomial,domain = K)\n",
    "        F3 = sp.quo(polynomial,F1*F2,domain = K)       \n",
    "        deg_f1 = F1.degree()\n",
    "        deg_f2 = F2.degree()\n",
    "        deg_f3 = F3.degree()\n",
    "        if deg_f1 != 0:\n",
    "            if deg_f1 == degree:\n",
    "                irr_factors_list.append(F1)\n",
    "            else:\n",
    "                list2.append([F1,degree])\n",
    "        if deg_f2 != 0:\n",
    "            if deg_f2 == degree:\n",
    "                irr_factors_list.append(F2)\n",
    "            else:\n",
    "                list2.append([F2,degree])\n",
    "        if deg_f3 != 0:\n",
    "            if deg_f3 == degree:\n",
    "                irr_factors_list.append(F3)\n",
    "            else:\n",
    "                list2.append([F3,degree])\n",
    "    factors_list = list2.copy()\n",
    "print(\"FACTORS=\", irr_factors_list)"
   ]
  },
  {
   "cell_type": "markdown",
   "id": "blessed-projection",
   "metadata": {},
   "source": [
    "##### Storing all possible (h modp) in list H"
   ]
  },
  {
   "cell_type": "code",
   "execution_count": 42,
   "id": "brief-royal",
   "metadata": {},
   "outputs": [
    {
     "data": {
      "text/plain": [
       "[Poly(x - 2, x, modulus=5),\n",
       " Poly(x + 2, x, modulus=5),\n",
       " Poly(x**2 - 2, x, modulus=5)]"
      ]
     },
     "execution_count": 42,
     "metadata": {},
     "output_type": "execute_result"
    }
   ],
   "source": [
    "H = []\n",
    "irr_factors_list\n",
    "for factor in irr_factors_list:\n",
    "    if sp.rem(f,Poly(factor,domain = ZZ)) != 0:\n",
    "        H.append(factor)\n",
    "H"
   ]
  },
  {
   "cell_type": "markdown",
   "id": "familiar-valuable",
   "metadata": {},
   "source": [
    "##### Irreducible factors so far, (in Z[X]). Stored in irr_factors_list."
   ]
  },
  {
   "cell_type": "code",
   "execution_count": 43,
   "id": "offensive-monte",
   "metadata": {},
   "outputs": [
    {
     "data": {
      "text/plain": [
       "[Poly(x**4 + x**3 + x**2 + 1, x, modulus=5)]"
      ]
     },
     "execution_count": 43,
     "metadata": {},
     "output_type": "execute_result"
    }
   ],
   "source": [
    "for poly in H:\n",
    "    irr_factors_list.remove(poly)\n",
    "irr_factors_list"
   ]
  },
  {
   "cell_type": "markdown",
   "id": "satisfied-wound",
   "metadata": {},
   "source": [
    "###### Note: Lists H and irr_factors_list are global variables."
   ]
  },
  {
   "cell_type": "markdown",
   "id": "surprising-bonus",
   "metadata": {},
   "source": [
    "# ============================================================="
   ]
  },
  {
   "cell_type": "markdown",
   "id": "progressive-pregnancy",
   "metadata": {},
   "source": [
    "#### Calculating k for suitable p^k value"
   ]
  },
  {
   "cell_type": "code",
   "execution_count": 54,
   "id": "infectious-scanner",
   "metadata": {},
   "outputs": [],
   "source": [
    "import scipy.special as ss\n",
    "from sympy import Matrix\n",
    "from sympy import ceiling,Float\n",
    "def start(f,H,r,p):  # Input : f - polynomial, H[r]- Entries from H, p - prime number from factor_base.\n",
    "    h = H[r]\n",
    "    deg_h = h.degree()\n",
    "    n = f.degree()\n",
    "    m = n-1\n",
    "    M = Matrix(list(f.coeffs()))\n",
    "    B = 2**(m*n/2) * (ss.binom(2*m,m))**(n/2) * M.norm()**(m+n)\n",
    "    k = ceiling(ceiling(sp.log(B+1,p))/deg_h) \n",
    "    return k"
   ]
  },
  {
   "cell_type": "markdown",
   "id": "dimensional-surgery",
   "metadata": {},
   "source": [
    "#### Hensel lifting "
   ]
  },
  {
   "cell_type": "markdown",
   "id": "animal-radar",
   "metadata": {},
   "source": [
    "#### Lifting $(mod p)$ to $(mod p^2)$."
   ]
  },
  {
   "cell_type": "code",
   "execution_count": 55,
   "id": "touched-violation",
   "metadata": {},
   "outputs": [],
   "source": [
    "def hensel_1(f,g,p): # Input: f - Polynomial, g - Monic factor in Z_p[X], p - Prime from factor base\n",
    "    K = GF(p)\n",
    "    K_1 = GF(p*p)\n",
    "    h = Poly(sp.quo(f,g,domain = K),domain = ZZ)\n",
    "    t,s,l = sp.gcdex(g,h,domain = K)\n",
    "    g = Poly(g,domain = ZZ)\n",
    "    e = Poly(f-g*h,domain = K_1)\n",
    "    q,r = sp.div(s*e,g,domain = K_1)\n",
    "    g1 = Poly(g+r,domain = K_1)\n",
    "    h1 = Poly(h+t*e+q*h,domain = K_1)\n",
    "    return g1,h1"
   ]
  },
  {
   "cell_type": "markdown",
   "id": "nominated-beatles",
   "metadata": {},
   "source": [
    "#### Lifting $(mod q)$ to $(mod qr)$ where $r = gcd(p,q)$ for some $p,q$ ( not necessarily prime)."
   ]
  },
  {
   "cell_type": "code",
   "execution_count": 56,
   "id": "accepted-semiconductor",
   "metadata": {},
   "outputs": [],
   "source": [
    "import math as m\n",
    "def hensel_2(u,v,q,p):  # u = vw in Z_q s.t. av+bw = 1 in Z_p\n",
    "    r = m.gcd(q,p)\n",
    "    K = GF(q)\n",
    "    K_1 = GF(q*r)\n",
    "    w = Poly(sp.quo(u,v,domain = K),domain = ZZ)\n",
    "    a,b,l = sp.gcdex(v,w,domain = GF(p))\n",
    "    b = Poly(b,domain = ZZ)\n",
    "    v = Poly(v,domain = ZZ)\n",
    "    f = Poly(sp.quo(u-v*w,sp.Poly([q],x),domain = ZZ))\n",
    "    t= sp.quo(b*f,v) \n",
    "    v_1 = b*f - t*v\n",
    "    w_1 = a*f + t*w\n",
    "    V = v + q*v_1\n",
    "    W = w + q*w_1\n",
    "    V = Poly(V,domain = K_1)\n",
    "    W = Poly(W,domain = K_1)\n",
    "    return V,W"
   ]
  },
  {
   "cell_type": "code",
   "execution_count": 47,
   "id": "norman-weather",
   "metadata": {},
   "outputs": [],
   "source": [
    "def hmodpk(f,H,r,p):  # Input : f,H[r],p as in above programs\n",
    "\n",
    "    k = start(f,H,r,p)\n",
    "    h = Poly(H[r],domain = ZZ)\n",
    "    o = 1\n",
    "    while 2**o < k:  # k factored as p^(2^(r-1)).p^(k-2^(r-1))\n",
    "        o = o+1\n",
    "    n = 1\n",
    "    q = p\n",
    "    while n != o:\n",
    "        h_1,g_1 = hensel_1(f,h,q)\n",
    "        q = q*q\n",
    "        h = Poly(h_1,domain = ZZ)\n",
    "        n = n+1\n",
    "    h_1,g_1 = hensel_2(f,h,q,int(p**(k-2**(o-1)))   )\n",
    "    return h_1"
   ]
  },
  {
   "cell_type": "markdown",
   "id": "appreciated-collaboration",
   "metadata": {},
   "source": [
    "###  Getting irreducible factor in $\\mathbb{Z}[X]$ for each suitable $h\\ (mod\\ p)$"
   ]
  },
  {
   "cell_type": "code",
   "execution_count": 48,
   "id": "injured-sample",
   "metadata": {},
   "outputs": [],
   "source": [
    "import olll\n",
    "\n",
    "def red_lattice(f,H,r,p): \n",
    "    \n",
    "    h_mod_pk = hmodpk(f,H,r,p)\n",
    "    n = f.degree()\n",
    "    l = h_mod_pk.degree()\n",
    "    \n",
    "    # Creating set of m values\n",
    "    u = 0\n",
    "    M = []\n",
    "    while l <= (n-1)/(2**u):\n",
    "        M.append(int((n-1)/(2**u)))\n",
    "        u = u+1\n",
    "    M.reverse()\n",
    "    k = start(f,H,r,p)\n",
    "    f_norm = Matrix(list(f.all_coeffs())).norm()\n",
    "    \n",
    "    for m in M:\n",
    "        \n",
    "        # CREATING LATTICE BASIS VECTORS\n",
    "        P1 = []\n",
    "        P2 = []\n",
    "        for i in range(l):\n",
    "            if i != 0:\n",
    "                P1.append((p**k)*sp.poly(x**i))\n",
    "            else:\n",
    "                P1.append((p**k)*sp.Poly([1],x))\n",
    "        for j in range(m-l+1):\n",
    "            if j != 0:\n",
    "                P2.append(Poly(h_mod_pk,domain = ZZ)*sp.poly(x**j))\n",
    "            else:\n",
    "                P2.append(Poly(h_mod_pk,domain = ZZ)*sp.Poly([1],x)) \n",
    "                \n",
    "        # Managing dimension of vectors and collecting in one list                \n",
    "        Lattice = []             \n",
    "        dim_vectors = m+1 \n",
    "        for poly in P1:\n",
    "            poly_list = poly.all_coeffs()\n",
    "            poly_list.reverse()\n",
    "            for i in range(m+1):\n",
    "                if i > len(poly_list)-1:\n",
    "                    poly_list.append(0)\n",
    "            Lattice.append(poly_list)\n",
    "        for poly in P2:\n",
    "            poly_list = poly.all_coeffs()\n",
    "            poly_list.reverse()\n",
    "            for i in range(m+1):\n",
    "                if i > len(poly_list)-1:\n",
    "                    poly_list.append(0)\n",
    "            Lattice.append(poly_list)\n",
    "            \n",
    "        # GETTING REDUCED LATTICE BASIS VECTORS\n",
    "        Lattice2 = []\n",
    "        for vec in Lattice:\n",
    "            L = []\n",
    "            for num in vec:\n",
    "                L.append(int(num))\n",
    "            Lattice2.append(L)\n",
    "        reduced_lattice = olll.reduction(Lattice2,3/4)\n",
    "        \n",
    "        # CHECKING IF deg(h0) <= m\n",
    "        lattice_poly = []\n",
    "        bound = (p**(k*l)/(f_norm**m))**(1/n)\n",
    "\n",
    "        t = 0\n",
    "        for vector in reduced_lattice:\n",
    "\n",
    "            if Matrix(vector).norm() < bound:\n",
    "                vector = list(vector)\n",
    "                vector.reverse()\n",
    "                lattice_poly.append(sp.Poly(vector,x,domain = ZZ))\n",
    "                t = t+1\n",
    "            else:\n",
    "                break\n",
    "        if t != 0:\n",
    "            H_0 = lattice_poly[0]\n",
    "            for i in range(t):\n",
    "                H_0 = sp.gcd(H_0,lattice_poly[i])\n",
    "            return H_0"
   ]
  },
  {
   "cell_type": "markdown",
   "id": "pleased-jerusalem",
   "metadata": {},
   "source": [
    "### Factoring completely into irreducibles in $\\mathbb{Z}[X]$"
   ]
  },
  {
   "cell_type": "code",
   "execution_count": 49,
   "id": "crazy-ebony",
   "metadata": {},
   "outputs": [],
   "source": [
    "def factorization(f,H,p):\n",
    "    h_0 = red_lattice(f,H,0,p)\n",
    "    print(h_0)\n",
    "    fact_check = [h_0]\n",
    "    for i in range(1,len(H)):\n",
    "        if sp.rem(h_0,H[i]) != 0:\n",
    "            h_0 = red_lattice(f,H,i,p)\n",
    "            if h_0 not in fact_check:\n",
    "                print(h_0)"
   ]
  },
  {
   "cell_type": "code",
   "execution_count": 50,
   "id": "unique-corruption",
   "metadata": {},
   "outputs": [
    {
     "name": "stdout",
     "output_type": "stream",
     "text": [
      "Poly(x + 3, x, domain='ZZ')\n",
      "Poly(2*x - 1, x, domain='ZZ')\n",
      "Poly(2*x**2 + 1, x, domain='ZZ')\n",
      "[Poly(x**4 + x**3 + x**2 + 1, x, modulus=5)]\n"
     ]
    }
   ],
   "source": [
    "factorization(f,H,5)\n",
    "print(irr_factors_list)"
   ]
  }
 ],
 "metadata": {
  "kernelspec": {
   "display_name": "Python 3",
   "language": "python",
   "name": "python3"
  },
  "language_info": {
   "codemirror_mode": {
    "name": "ipython",
    "version": 3
   },
   "file_extension": ".py",
   "mimetype": "text/x-python",
   "name": "python",
   "nbconvert_exporter": "python",
   "pygments_lexer": "ipython3",
   "version": "3.8.3"
  }
 },
 "nbformat": 4,
 "nbformat_minor": 5
}
