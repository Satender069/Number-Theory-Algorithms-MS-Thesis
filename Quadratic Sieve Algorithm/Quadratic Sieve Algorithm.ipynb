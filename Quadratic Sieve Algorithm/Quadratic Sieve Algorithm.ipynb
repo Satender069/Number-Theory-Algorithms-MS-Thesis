{
 "cells": [
  {
   "cell_type": "markdown",
   "metadata": {},
   "source": [
    "# **Quadratic Sieve Algorithm**\n"
   ]
  },
  {
   "cell_type": "markdown",
   "metadata": {},
   "source": [
    "For number $n$ to be factored it aims to find the solution to $x^2\\equiv y^2\\ (mod\\ n)$ $\\implies$ $(x-y)(x+y)=0\\ (mod\\ n)$. If so, we can compute $gcd(x-y,n)$ and $gcd(x+y,n)$ to see if these are non-trivial divisors. \n",
    "\n",
    "First, we define the quadratic polynomial $A(x) = x^2-n$ to work with and compute $A(x_1),A(x_2),....,A(x_k)$ for some $x_i's$, that we will define below, and pick up a subset $s.t.$ $A(x_{i_1})A(x_{i_2})....A(x_{i_r})$ is a square, say, $y^2$. From our equation of $A(x)$ we then get: \n",
    "\n",
    "$$\n",
    "y^2=A(x_{i_1})A(x_{i_2})....A(x_{i_r}) \\equiv (x_{i_1}x_{i_2}....x_{i_r})^2 \n",
    "$$\n",
    "\n",
    "Hence, we check for $gcd(y-(x_{i_1}x_{i_2}....x_{i_r}),n)$ to be non-trivial. If not, then we look for different subset of $A(x_i)$ and repeat the process."
   ]
  },
  {
   "cell_type": "markdown",
   "metadata": {},
   "source": [
    "### Setting up a Sieving Interval and a Factor Base\n",
    "\n",
    "We need efficient way to determine our $x_i$ as to get a perfect square as we are going to factor $f(x_i)$ with the primes in our factor base so we want it to be small and to factor over set of small prime numbers. \n",
    "\n",
    "To make $f(x_i)= {x_i}^2-n$ small we use $x_i = ( \\lfloor \\sqrt n \\rfloor +r )$ where $r\\in [-M,M]$, which is our $sieving\\ interval$. \n",
    "\n",
    "For negative $f(x_i)$ values we have to include $-1$ in our factor base. Here we take care of sign by calculating absolute value of $f(x_i)'s$.\n",
    "\n",
    "Now, for $factor\\ base$ we need primes $p$, below some bound $B$, $s.t.$ $n$ is a quadratic residue modulo $p$ as others do not divide any of the $f(x_i)'s$. Hence, we need legendre symbol $\\big(\\frac{n}{p}\\big)$=1.\n",
    "\n",
    "\n",
    "\n"
   ]
  },
  {
   "cell_type": "markdown",
   "metadata": {},
   "source": [
    "### Finding suitable list of primes upto bound B"
   ]
  },
  {
   "cell_type": "code",
   "execution_count": 1,
   "metadata": {},
   "outputs": [],
   "source": [
    "def jacobi(p,a):   # to check whether 'a' is a  Quadratic Residue modulo p \n",
    "        b=a%p\n",
    "        c=p\n",
    "        s=1\n",
    "        while b>=2:\n",
    "            while b%4==0:\n",
    "                b = b/4\n",
    "            if b%2 == 0:\n",
    "                if c%8==3 or c%8==5:\n",
    "                    s = -s\n",
    "                b=b/2\n",
    "            if b==1:\n",
    "                break\n",
    "            if b%4==c%4==3:\n",
    "                s=-s\n",
    "            b1=b\n",
    "            b=c%b\n",
    "            c=b1\n",
    "        return s"
   ]
  },
  {
   "cell_type": "markdown",
   "metadata": {},
   "source": [
    "Below program is to find primes upto $B$ by trial method. While working with large factor base one should replace it with better versions for the same. "
   ]
  },
  {
   "cell_type": "code",
   "execution_count": 2,
   "metadata": {},
   "outputs": [],
   "source": [
    "def primes(B,n):       \n",
    "    factor_base = [2]\n",
    "    for num in range(3,B + 1):\n",
    "        for i in range(2, num):\n",
    "            if (num % i) == 0:\n",
    "                break\n",
    "        else:\n",
    "            if jacobi(num,n) == 1:\n",
    "                factor_base.append(num)\n",
    "    return factor_base"
   ]
  },
  {
   "cell_type": "markdown",
   "metadata": {},
   "source": [
    "### Working with Sieving interval [-M,M]"
   ]
  },
  {
   "cell_type": "markdown",
   "metadata": {},
   "source": [
    "After getting out $factor\\ base$ we now need to calculate $f(x_i)$ values for $( \\lfloor \\sqrt n \\rfloor - M )\\leq x_i\\leq ( \\lfloor \\sqrt n \\rfloor + M)$. We keep only those values which are factored within the primes of our factor base only.\n",
    "\n",
    "Assume our factor base to be $(a_1,a_2,.....,a_k)$ and factors factoring within these primes be:\n",
    "\n",
    "$$\n",
    "f(x_1) = (a_1)^{r_{11}} (a_2)^{r_{12}}.... (a_k)^{r_{1k}} \\\\\n",
    "f(x_2) = (a_1)^{r_{21}} (a_2)^{r_{22}}.... (a_k)^{r_{2k}} \\\\\n",
    ". \\\\\n",
    ". \\\\\n",
    ". \\\\\n",
    "f(x_p) = (a_1)^{r_{p1}} (a_2)^{r_{p2}}.... (a_k)^{r_{pk}}\n",
    "$$\n",
    "\n",
    "Below we return lists of the powers corresponding to prime factors for each $f(x_i)$ and,  all $x_i$  and their $f(x_i)$ values."
   ]
  },
  {
   "cell_type": "code",
   "execution_count": 3,
   "metadata": {},
   "outputs": [],
   "source": [
    "import math\n",
    "def factoring(B,M,n): # B- Bound for prime factor base, M- sieving interval bound, n- number to be factored\n",
    "    power = 0\n",
    "    dic = {}\n",
    "    list_final=[]\n",
    "    fx_list=[]\n",
    "    x_list=[]\n",
    "    gif = math.floor(pow(n,1/2))\n",
    "    factor_base = primes(B,n)\n",
    "    for i in range(gif-M,gif+M+1):\n",
    "        num = i*i-n\n",
    "        for j in factor_base:            # collecting powers of primes of factor base\n",
    "            while num%j == 0:\n",
    "                power += 1\n",
    "                num = num/j\n",
    "            dic[\"{}\".format(j)]= power\n",
    "            power = 0\n",
    "            num = i*i-n\n",
    "        \n",
    "        number = 1\n",
    "        for j in factor_base:             # checking if number factored within our factor base or not\n",
    "            number = number*pow(j,dic[\"{}\".format(j)])\n",
    "        if number == abs(num):\n",
    "            x_list.append(i)\n",
    "            fx_list.append(abs(num))\n",
    "            list_final.append(dic.copy())\n",
    "    return list_final,x_list,fx_list"
   ]
  },
  {
   "cell_type": "code",
   "execution_count": 4,
   "metadata": {},
   "outputs": [
    {
     "data": {
      "text/plain": [
       "([{'2': 1, '3': 0, '7': 1, '11': 1, '13': 0, '17': 0, '19': 1, '29': 0},\n",
       "  {'2': 0, '3': 0, '7': 0, '11': 1, '13': 1, '17': 1, '19': 0, '29': 0},\n",
       "  {'2': 1, '3': 1, '7': 0, '11': 0, '13': 1, '17': 0, '19': 0, '29': 1},\n",
       "  {'2': 1, '3': 3, '7': 0, '11': 0, '13': 0, '17': 0, '19': 0, '29': 1},\n",
       "  {'2': 1, '3': 1, '7': 1, '11': 1, '13': 0, '17': 0, '19': 0, '29': 0},\n",
       "  {'2': 1, '3': 1, '7': 0, '11': 0, '13': 1, '17': 0, '19': 0, '29': 0},\n",
       "  {'2': 0, '3': 2, '7': 0, '11': 0, '13': 1, '17': 0, '19': 0, '29': 0},\n",
       "  {'2': 0, '3': 3, '7': 0, '11': 0, '13': 0, '17': 0, '19': 1, '29': 0},\n",
       "  {'2': 1, '3': 1, '7': 1, '11': 0, '13': 0, '17': 1, '19': 0, '29': 0},\n",
       "  {'2': 1, '3': 1, '7': 0, '11': 1, '13': 0, '17': 1, '19': 0, '29': 0},\n",
       "  {'2': 1, '3': 2, '7': 1, '11': 0, '13': 0, '17': 0, '19': 1, '29': 0}],\n",
       " [81, 84, 85, 89, 95, 97, 98, 100, 101, 103, 109],\n",
       " [2926, 2431, 2262, 1566, 462, 78, 117, 513, 714, 1122, 2394])"
      ]
     },
     "execution_count": 4,
     "metadata": {},
     "output_type": "execute_result"
    }
   ],
   "source": [
    "factoring(30,16,9487)"
   ]
  },
  {
   "cell_type": "code",
   "execution_count": 5,
   "metadata": {},
   "outputs": [
    {
     "data": {
      "text/plain": [
       "[3, 29, 101]"
      ]
     },
     "execution_count": 5,
     "metadata": {},
     "output_type": "execute_result"
    }
   ],
   "source": [
    "from sympy import primefactors as pf\n",
    "pf(8787)"
   ]
  },
  {
   "cell_type": "code",
   "execution_count": 6,
   "metadata": {},
   "outputs": [
    {
     "data": {
      "text/plain": [
       "101"
      ]
     },
     "execution_count": 6,
     "metadata": {},
     "output_type": "execute_result"
    }
   ],
   "source": [
    "import math as m\n",
    "m.gcd(94+7,8787)"
   ]
  },
  {
   "cell_type": "markdown",
   "metadata": {},
   "source": [
    "After having factored required $f(x_i)'s$ we need to check for the subset, say $S = \\{f(x_{i_1}),f(x_{i_2}),....f(x_{i_s})\\}$ of these values $s.t.$  $s\\ =\\ f(x_{i_1})f(x_{i_2})....f(x_{i_s})$ is a perfect square. Which means we need the powers of each prime in $s$ to be even. \n",
    "\n",
    "So, let $M$ be our matrix of powers of all factored $f(x_i)'s$ as below:\n",
    "\n",
    "$\\begin{bmatrix}\n",
    "r_{11}& r_{12} & r_{13} & ..... & r_{1k}\\\\\n",
    "r_{21}& r_{22} & r_{23} & ..... & r_{2k}\\\\\n",
    ". & . & . & & .\\\\\n",
    ". & . & . & & .\\\\\n",
    "r_{p1}& r_{p2} & r_{p3} & ..... & r_{pk}\\\\\n",
    "\\end{bmatrix}$\n",
    "\n",
    "And let $M'\\ =\\ M\\ (mod\\ 2)$ be the matrix with entries $r_{ij}\\ (mod\\ 2);\\ 1\\leq i\\leq p,\\ 1\\leq j\\leq k$. "
   ]
  },
  {
   "cell_type": "markdown",
   "metadata": {},
   "source": [
    "##### Gaussian Elimination\n",
    "\n",
    "We will now use gaussian elimination to get desired subset $S$ out of $f(x_i)'s$. For this we will work with matrix $M'$ and identity matrix $A_{p\\times p}$ modulo 2. Each row vector of $A$ consists of $0's$ and $1's$. We use $A$ to keep track of the combination of $f(x_i)'s$ that gives us a perfect square.\n",
    "\n",
    "Starting with first column, we find the first row with $1$ and then add modulo $2$ to succeeding rows with $1's$ in that column. We do the same with corresponding rows of matrix $A$ which keeps the track of which $f(x_i)'s$ are multiplied. Then we eliminate that row from the matrix $M'$.\n",
    "\n",
    "Then we repeat the above step for column $2$. Notice that after going through each column the remaining rows have only $0$ entries in that column.\n",
    "\n",
    "We keep repeating the above process until we get a row with all the zero entries, which would eventually happen if we take more $f(x_i)$ values than in factor base. Hence the bounds are very important for quadratic sieve algorithm. Zero entries imply that the power of primes is even.\n",
    "\n",
    "Assume $j^{th}$ to be the required row then we check $j^{th}$ row's entries in $A$ for $f(x_i)$ values which on multiplying will give us the required square. Now we can solve for $x^2\\equiv y^2\\ (mod\\ n)$.\n",
    "\n",
    "\n",
    "If we do not get a non-trivial factor then we repeat the process further we find another such row.\n",
    "\n",
    "\n",
    "\n"
   ]
  },
  {
   "cell_type": "code",
   "execution_count": 7,
   "metadata": {},
   "outputs": [],
   "source": [
    "import numpy as np\n",
    "def qsa(B,M,n):                                  # Bound for factor base, Bound for sieving interval, odd integer to be factored\n",
    "    list1 = []\n",
    "    final_list,x_values,fx_values = factoring(B,M,n) # vectors list, x-values, f(x) values\n",
    "    factor_base = primes(B,n)\n",
    "    \n",
    "    len_final_list = len(final_list)                 # no. of rows\n",
    "    len_factor_base= len(factor_base)                # factor_base length\n",
    "    \n",
    "    #....... Setting Matrices ..............\n",
    "    \n",
    "    for i in range(len_final_list):\n",
    "        list1.append(list(final_list[i].values()))\n",
    "    main_matrix = np.array(list1)                    # Matrix with vectors corresponding to factors powers before modulo 2\n",
    "    #................................................\n",
    "    working_matrix = (main_matrix.copy()) % 2        # Matrix After modulo 2 calculation\n",
    "    tracking_matrix = np.identity(len_final_list)    # Identity matrix for row operations history\n",
    "    \n",
    "    \n",
    "    worked_row_list = []                             # List of row numbers that have been eliminated.\n",
    "    for column_no in range(len_factor_base):\n",
    "        for row_no in range(len_final_list):\n",
    "            if row_no not in worked_row_list:\n",
    "                \n",
    "                curr_row = working_matrix[row_no,]\n",
    "                \n",
    "                for row in range(row_no,len_final_list):\n",
    "                    if row not in worked_row_list:\n",
    "                        if all([i==0 for i in (working_matrix[row,]%2)]): \n",
    "                            \n",
    "                            # .............FINAL X VALUE..............\n",
    "                            x_value = 1\n",
    "                            for i,j in zip(tracking_matrix[row,],x_values):\n",
    "                                if i!= 0:\n",
    "                                    x_value = (x_value*j)%n\n",
    "                                    \n",
    "                            #.............FINAL Y VALUE............\n",
    "                            y_value = 1\n",
    "                            sum_rows=np.zeros((1,len_factor_base))\n",
    "                            for i in range(len_final_list):\n",
    "                                if tracking_matrix[row,i]==1:\n",
    "                                    sum_rows += main_matrix[i,]\n",
    "                            for power,factor in zip(sum_rows[0],factor_base):\n",
    "                                y_value *= pow(factor,int(power/2),n)\n",
    "                                     \n",
    "                            # .... Checking if Non-trivial Divisor......       \n",
    "                            divisor =  math.gcd(x_value+y_value,n) \n",
    "                            if divisor not in [1,n]:\n",
    "                                return \"Divisors of {} are = {} and {} \".format(n,divisor,int(n/divisor))\n",
    "                                break\n",
    "                            \n",
    "                #....... Gaussian Elimination..............\n",
    "                if working_matrix[row_no,column_no] == 1:\n",
    "                    for r in range(row_no+1,len_final_list):\n",
    "                        if working_matrix[r,column_no]==1:\n",
    "                            working_matrix[r,]=(working_matrix[r,]+curr_row)%2\n",
    "                            tracking_matrix[r,]=(tracking_matrix[r,]+ tracking_matrix[row_no,])%2\n",
    "                    worked_row_list.append(row_no)"
   ]
  },
  {
   "cell_type": "code",
   "execution_count": 8,
   "metadata": {},
   "outputs": [
    {
     "name": "stdout",
     "output_type": "stream",
     "text": [
      "Divisors of 4295229443 are = 65539 and 65537 \n",
      "Time taken = 0.0017325000000001367\n"
     ]
    }
   ],
   "source": [
    "import time\n",
    "strt = time.perf_counter()\n",
    "print(qsa(10,10,4295229443))\n",
    "end = time.perf_counter()\n",
    "print(f'Time taken = {end-strt}')"
   ]
  },
  {
   "cell_type": "code",
   "execution_count": 9,
   "metadata": {},
   "outputs": [
    {
     "name": "stdout",
     "output_type": "stream",
     "text": [
      "Divisors of 1234567895341 are = 28710881287 and 43 \n",
      "Time taken = 0.05762970000000012\n"
     ]
    }
   ],
   "source": [
    "import time\n",
    "strt = time.perf_counter()\n",
    "print(qsa(80,1720,1234567895341))\n",
    "end = time.perf_counter()\n",
    "print(f'Time taken = {end-strt}')"
   ]
  },
  {
   "cell_type": "code",
   "execution_count": 40,
   "metadata": {},
   "outputs": [
    {
     "name": "stdout",
     "output_type": "stream",
     "text": [
      "Divisors of 1000000000099987889 are = 99999989 and 10000001101 \n"
     ]
    }
   ],
   "source": [
    "print(qsa(1000,100000,1000000000099987889))"
   ]
  }
 ],
 "metadata": {
  "kernelspec": {
   "display_name": "Python 3",
   "language": "python",
   "name": "python3"
  },
  "language_info": {
   "codemirror_mode": {
    "name": "ipython",
    "version": 3
   },
   "file_extension": ".py",
   "mimetype": "text/x-python",
   "name": "python",
   "nbconvert_exporter": "python",
   "pygments_lexer": "ipython3",
   "version": "3.8.3"
  }
 },
 "nbformat": 4,
 "nbformat_minor": 4
}
